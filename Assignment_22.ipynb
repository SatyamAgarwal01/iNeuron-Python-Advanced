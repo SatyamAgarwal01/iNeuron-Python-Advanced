{
 "cells": [
  {
   "cell_type": "markdown",
   "id": "c2d4babd-44c9-4a45-aa14-81655ea8de0b",
   "metadata": {},
   "source": [
    "Q1. What are the benefits of the built-in array package, if any? \n",
    "\n",
    "Ans. Arrays represent multiple data items of the same type using a single name. In arrays, the elements can be accessed randomly by using the index number. Arrays allocate memory in contiguous memory locations for all its elements. Hence there is no chance of extra memory being allocated in case of arrays. This avoids memory overflow or shortage of memory in arrays. "
   ]
  },
  {
   "cell_type": "markdown",
   "id": "98e5721d-133d-4993-a647-f53a3f49e5c9",
   "metadata": {},
   "source": [
    "Q2. What are some of the array package's limitations? \n",
    "\n",
    "Ans. The number of elements to be stored in an array should be known in advance. An array is a static structure (which means the array is of fixed size). Once declared the size of the array cannot be modified. The memory which is allocated to it cannot be increased or decreased. Insertion and deletion are quite difficult in an array as the elements are stored in consecutive memory locations and the shifting operation is costly. Allocating more memory than the requirement leads to wastage of memory space and less allocation of memory also leads to a problem.\n",
    "\n"
   ]
  },
  {
   "cell_type": "markdown",
   "id": "69ba3d26-0b75-4620-87ac-cd5c6ca42069",
   "metadata": {},
   "source": [
    "Q3. Describe the main differences between the array and numpy packages. \n",
    "\n",
    "Ans. The array package doesn't provide any help with numerical calculation with the items insdie it in number form while NumPy give you a wide variety of numerical operations. An array is a single dimensional entity which hold the numerical data, while numpy can have more than 1 dimension. In case of array, item can be accessed by its index position and it is easy task while in numpy item is accessed by its column and row index, which makes it slightly time taking. Same goes with appending operation. In case of array we do not form a tabular structure, while in numpy it forms a tabular structure.\n",
    "\n"
   ]
  },
  {
   "cell_type": "markdown",
   "id": "95bf6c36-448b-4ba4-b9e3-17431d628dfb",
   "metadata": {},
   "source": [
    "Q4. Explain the distinctions between the empty, ones, and zeros functions. \n",
    "\n",
    "Ans. The distinctions between the empty, ones, and zero functions are as follows :\n",
    "•\tEmpty function: An empty function is a function that does not contain any statement within its body. If you try to write a function definition without any statement in python ,it will return an error. To avoid this, we use pass statement. pass is a special statement in Python that does nothing. It only works as a dummy statement.\n",
    "•\tOnes: This function returns a new array of given shape and data type, where the element’s value is 1.\n",
    "•\tZeros: This function returns a new array of given shape and data type, where the element’s value is 0.\n",
    "\n"
   ]
  },
  {
   "cell_type": "markdown",
   "id": "f306517b-db4a-4044-a709-1de8ab633766",
   "metadata": {},
   "source": [
    "Q5. In the fromfunction function, which is used to construct new arrays, what is the role of the callable argument? \n",
    "\n",
    "Ans. Its function is to execute the function over each coordinate and the resulting array. The function is called with N parameters, where N is the rank of shape. Each parameter represents the coordinates of the array varying along a specific axis.\n",
    "\n"
   ]
  },
  {
   "cell_type": "markdown",
   "id": "749a6030-1c4d-4016-a830-b1a8bc7a70d8",
   "metadata": {},
   "source": [
    "Q6. What happens when a numpy array is combined with a single-value operand (a scalar, such as an int or a floating-point value) through addition, as in the expression A + n? \n",
    "\n",
    "Ans. If any scaler value such as integer is added to the numpy array then all the elements inside the array will add that value in it.\n",
    "\n"
   ]
  },
  {
   "cell_type": "markdown",
   "id": "09c59aaf-b0da-4988-8f3a-a4b496a741b3",
   "metadata": {},
   "source": [
    "Q7. Can array-to-scalar operations use combined operation-assign operators (such as += or *=)? What is the outcome? \n",
    "\n",
    "Ans. It will carry out provided operation on all elements of array.\n"
   ]
  },
  {
   "cell_type": "markdown",
   "id": "ea2021b6-2a69-466d-b060-f6f591156f13",
   "metadata": {},
   "source": [
    "Q8. Does a numpy array contain fixed-length strings? What happens if you allocate a longer string to one of these arrays?\n",
    "\n",
    "Ans. Yes, it is possible that we can include a string of fixed length in numpy array. The dtype of any numpy array containing string values is the maximum length of any string present in the array.Once set, it will only be able to store new string having length not more than the maximum length at the time of the creation. If we try to reassign some another string value having length greater than the maximum length of the existing elements, it simply discards all the values beyond the maximum length accept upto those values which are under the limit.\n"
   ]
  },
  {
   "cell_type": "markdown",
   "id": "f97d092b-8c33-41b1-8c61-5f597e21e020",
   "metadata": {},
   "source": [
    "Q9. What happens when you combine two numpy arrays using an operation like addition (+) or multiplication (*)? What are the conditions for combining two numpy arrays? \n",
    "\n",
    "Ans. It will simply add or multiply element to element at same position. \n"
   ]
  },
  {
   "cell_type": "markdown",
   "id": "a1df6514-0566-4732-89ca-63a016887d11",
   "metadata": {},
   "source": [
    "Q10. What is the best way to use a Boolean array to mask another array? \n",
    "\n",
    "Ans. The best way to use a Boolean array to mask another array is by Using masked_where of numpy package\n"
   ]
  },
  {
   "cell_type": "markdown",
   "id": "1b626655-ad4b-4862-ad0f-b85edd762c0b",
   "metadata": {},
   "source": [
    "Q11. What are three different ways to get the standard deviation of a wide collection of data using both standard Python and its packages? Sort the three of them by how quickly they execute. \n",
    "\n",
    "Ans. np.std and math package can be used individually.\n"
   ]
  },
  {
   "cell_type": "markdown",
   "id": "6f0253be-ca45-4f87-95b8-4ce17ffbde85",
   "metadata": {},
   "source": [
    "12. What is the dimensionality of a Boolean mask-generated array?\n",
    "\n",
    "Ans. It will have same dimensionality as input array.\n"
   ]
  },
  {
   "cell_type": "code",
   "execution_count": null,
   "id": "c7c1d2fa-4958-4035-b53d-8db3140546ea",
   "metadata": {},
   "outputs": [],
   "source": []
  },
  {
   "cell_type": "code",
   "execution_count": null,
   "id": "be37fb9f-8766-41ef-a5e3-13e727e0073e",
   "metadata": {},
   "outputs": [],
   "source": []
  }
 ],
 "metadata": {
  "kernelspec": {
   "display_name": "Python 3 (ipykernel)",
   "language": "python",
   "name": "python3"
  },
  "language_info": {
   "codemirror_mode": {
    "name": "ipython",
    "version": 3
   },
   "file_extension": ".py",
   "mimetype": "text/x-python",
   "name": "python",
   "nbconvert_exporter": "python",
   "pygments_lexer": "ipython3",
   "version": "3.10.6"
  }
 },
 "nbformat": 4,
 "nbformat_minor": 5
}

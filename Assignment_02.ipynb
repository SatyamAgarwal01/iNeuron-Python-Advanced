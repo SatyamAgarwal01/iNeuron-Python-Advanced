{
 "cells": [
  {
   "cell_type": "markdown",
   "id": "47236314-6318-46f2-9f3c-f46cf3eba4d1",
   "metadata": {},
   "source": [
    "Q1. What is the relationship between classes and modules?\n",
    "\n",
    "Ans. A Python class is like an outline/blueprint/mold for creating a new object. An object is anything that you wish to manipulate or change while working through the code. Every time a class object is instantiated, which is when we declare a variable, a new object is initiated from scratch.\n",
    "\n",
    "Whereas in Python, Modules are simply files with the .py extension containing Python code that can be imported inside another Python Program. In simple terms, we can consider a module to be the same as a code library or a file that contains a set of functions/Classes that you want to include in your application.\n"
   ]
  },
  {
   "cell_type": "markdown",
   "id": "9374e564-3428-491e-8962-c83c305be329",
   "metadata": {},
   "source": [
    "Q2. How do you make instances and classes?\n",
    "\n",
    "Ans. For creating a class instance. we call a class by its name and pass the arguments which its __init__ method accepts and for creating a class, we use the Class keyword. Class keyword is followed by classname and semicolon.\n",
    "\n"
   ]
  },
  {
   "cell_type": "markdown",
   "id": "1caf89d3-213d-446a-a23e-6e556fc0af2b",
   "metadata": {},
   "source": [
    "Q3. Where and how should be class attributes created?\n",
    "\n",
    "Ans. Class attributes or Class level Attributes belong to the class itself. these attributes will be shared by all the instances of the class. Hence these attributes are usually created/defined in the top of class definition outside all methods\n",
    "\n",
    "\n"
   ]
  },
  {
   "cell_type": "markdown",
   "id": "1ef9e69b-e67d-4698-9844-3d7a2386acec",
   "metadata": {},
   "source": [
    "Q4. Where and how are instance attributes created?\n",
    "\n",
    "Ans. Instances attributes are passed to the class when an object of the class is created. Unlike class attributes, instance attributes are not shared by all objects of the class. Instead each object maintains its own copy of instance attributes at object level. Whereas in case of class attributes all instances of class refer to a single copy. Usually instance attributes are defined within the __init__ method of class\n",
    "\n"
   ]
  },
  {
   "cell_type": "markdown",
   "id": "8455b6b6-9f48-4926-8f04-7fb7843553bd",
   "metadata": {},
   "source": [
    "Q5. What does the term \"self\" in a Python class mean?\n",
    "\n",
    "Ans. self represents the instance of the class (it represents the object itself). By using the “self” keyword we can access the attributes and methods of the class with in the class in python. It binds the attributes with the given arguments.\n",
    "\n"
   ]
  },
  {
   "cell_type": "markdown",
   "id": "8e909507-e285-4366-b69a-fb002f17f34b",
   "metadata": {},
   "source": [
    "Q6. How does a Python class handle operator overloading?\n",
    "\n",
    "Ans. Python Classes handle operator overloading by using special methods called Magic methods. These special methods usually begin and end with  (double underscore)\n"
   ]
  },
  {
   "cell_type": "markdown",
   "id": "22105806-3168-4aa3-8557-0f2d77bf3cf6",
   "metadata": {},
   "source": [
    "\n",
    "Q7. When do you consider allowing operator overloading of your classes?\n",
    "\n",
    "Ans. When we want to have different meaning for the same operator according to the context we use operator overloading.\n",
    "\n"
   ]
  },
  {
   "cell_type": "markdown",
   "id": "80163678-b054-46bd-8bcc-6ae2907bbcf0",
   "metadata": {},
   "source": [
    "Q8. What is the most popular form of operator overloading?\n",
    "\n",
    "Ans. he most popular form of operator overloading in python is by special methods called Magic methods. Which usually begin and end with double underscore __<method name>__.\n",
    "\n"
   ]
  },
  {
   "cell_type": "markdown",
   "id": "168022ad-636f-43a1-9f2e-f679b1620f10",
   "metadata": {},
   "source": [
    "Q9. What are the two most important concepts to grasp in order to comprehend Python OOP code?\n",
    "\n",
    "Ans. Classes and objects are the two concepts to comprehend python OOP code as more formally objects are entities that represent instances of general abstract concept called class\n",
    "\n",
    "Along with classes and objects the important concepts to grasp are:\n",
    "\n",
    "•\tInheritance\n",
    "•\tAbstraction\n",
    "•\tPolymorphism\n",
    "•\tEncapsulation"
   ]
  },
  {
   "cell_type": "code",
   "execution_count": null,
   "id": "91a91ab9-e065-4fab-868a-6b26e44a34b6",
   "metadata": {},
   "outputs": [],
   "source": []
  }
 ],
 "metadata": {
  "kernelspec": {
   "display_name": "Python 3 (ipykernel)",
   "language": "python",
   "name": "python3"
  },
  "language_info": {
   "codemirror_mode": {
    "name": "ipython",
    "version": 3
   },
   "file_extension": ".py",
   "mimetype": "text/x-python",
   "name": "python",
   "nbconvert_exporter": "python",
   "pygments_lexer": "ipython3",
   "version": "3.10.6"
  }
 },
 "nbformat": 4,
 "nbformat_minor": 5
}
